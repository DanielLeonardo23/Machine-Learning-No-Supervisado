{
 "cells": [
  {
   "cell_type": "markdown",
   "id": "ad618fd9",
   "metadata": {},
   "source": [
    "# Clustering de Usuarios con K-Means (Interfaz Interactiva con ipywidgets)\n",
    "Este notebook implementa un sistema de agrupamiento usando K-Means sobre un dataset de comportamiento de usuarios en redes sociales. Puedes ajustar el valor de K dinámicamente y visualizar los resultados."
   ]
  },
  {
   "cell_type": "code",
   "execution_count": null,
   "id": "4d5b5286",
   "metadata": {},
   "outputs": [],
   "source": [
    "import pandas as pd\n",
    "from sklearn.cluster import KMeans\n",
    "from sklearn.preprocessing import StandardScaler\n",
    "from sklearn.decomposition import PCA\n",
    "from sklearn.metrics import silhouette_score\n",
    "import matplotlib.pyplot as plt\n",
    "import seaborn as sns\n",
    "from ipywidgets import interact, IntSlider\n",
    "import warnings\n",
    "warnings.filterwarnings(\"ignore\")\n",
    "\n",
    "sns.set(style=\"whitegrid\")\n"
   ]
  },
  {
   "cell_type": "code",
   "execution_count": null,
   "id": "1525a7d1",
   "metadata": {},
   "outputs": [],
   "source": [
    "# Cargar dataset\n",
    "df = pd.read_csv(\"clustered_users.csv\")\n",
    "\n",
    "# Variables a usar para clustering\n",
    "features = [\n",
    "    'Daily_Usage_Time (minutes)', 'Posts_Per_Day', 'Likes_Received_Per_Day',\n",
    "    'Comments_Received_Per_Day', 'Messages_Sent_Per_Day'\n",
    "]\n",
    "X = df[features]\n",
    "\n",
    "# Escalado\n",
    "scaler = StandardScaler()\n",
    "X_scaled = scaler.fit_transform(X)\n"
   ]
  },
  {
   "cell_type": "code",
   "execution_count": null,
   "id": "d20ec36f",
   "metadata": {},
   "outputs": [],
   "source": [
    "@interact(k=IntSlider(min=2, max=10, step=1, value=4, description=\"Número de clusters (K):\"))\n",
    "def cluster_interactivo(k):\n",
    "    # Aplicar K-Means\n",
    "    kmeans = KMeans(n_clusters=k, random_state=42, n_init=10)\n",
    "    clusters = kmeans.fit_predict(X_scaled)\n",
    "\n",
    "    # Silhouette score\n",
    "    sil_score = silhouette_score(X_scaled, clusters)\n",
    "\n",
    "    # PCA para visualización\n",
    "    pca = PCA(n_components=2)\n",
    "    components = pca.fit_transform(X_scaled)\n",
    "    df['Cluster'] = clusters\n",
    "    df['PCA1'] = components[:, 0]\n",
    "    df['PCA2'] = components[:, 1]\n",
    "\n",
    "    # Gráfico\n",
    "    plt.figure(figsize=(8, 6))\n",
    "    sns.scatterplot(data=df, x='PCA1', y='PCA2', hue='Cluster', palette='Set2')\n",
    "    plt.title(f'Clusters de Usuarios (K={k}) - Silhouette Score: {sil_score:.2f}')\n",
    "    plt.xlabel(\"PCA 1\")\n",
    "    plt.ylabel(\"PCA 2\")\n",
    "    plt.show()\n",
    "\n",
    "    # Estadísticas por cluster\n",
    "    display(df.groupby('Cluster')[features].mean().style.background_gradient(cmap='Blues'))\n"
   ]
  }
 ],
 "metadata": {},
 "nbformat": 4,
 "nbformat_minor": 5
}
